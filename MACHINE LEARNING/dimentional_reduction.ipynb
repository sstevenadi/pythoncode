{
  "nbformat": 4,
  "nbformat_minor": 0,
  "metadata": {
    "colab": {
      "name": "Dimentional Reduction.ipynb",
      "provenance": []
    },
    "kernelspec": {
      "name": "python3",
      "display_name": "Python 3"
    },
    "language_info": {
      "name": "python"
    }
  },
  "cells": [
    {
      "cell_type": "markdown",
      "metadata": {
        "id": "RsUq7P40cqms"
      },
      "source": [
        "# SKLearn PCA"
      ]
    },
    {
      "cell_type": "code",
      "metadata": {
        "colab": {
          "base_uri": "https://localhost:8080/"
        },
        "id": "gBf82lQMcl0j",
        "outputId": "797b0110-b9d1-4e30-8e58-4aa28d2e7fd9"
      },
      "source": [
        "from sklearn import datasets\n",
        "from sklearn.model_selection import train_test_split\n",
        "from sklearn import tree\n",
        "from sklearn.decomposition import PCA\n",
        "\n",
        "# load iris datasets\n",
        "iris = datasets.load_iris()\n",
        "atribut = iris.data\n",
        "label = iris.target\n",
        "\n",
        "# splitting\n",
        "X_train, X_test, y_train, y_test = train_test_split(atribut, label, test_size=0.2)\n",
        "\n",
        "# testing acc without PCA\n",
        "decision_tree = tree.DecisionTreeClassifier()\n",
        "first_model = decision_tree.fit(X_train, y_train)\n",
        "first_model.score(X_test, y_test)\n",
        "\n",
        "# making PCA object with 4 principal\n",
        "pca = PCA(n_components=2)\n",
        "\n",
        "# fitting the pca to datasets\n",
        "pca_attributes = pca.fit_transform(X_train)\n",
        "\n",
        "# variance of the attributes\n",
        "pca.explained_variance_ratio_\n",
        "\n",
        "# training with pca\n",
        "X_train_pca = pca.fit_transform(X_train)\n",
        "X_test_pca = pca.fit_transform(X_test)\n",
        "\n",
        "# acc testing\n",
        "model = decision_tree.fit(X_train_pca, y_train)\n",
        "model.score(X_test_pca, y_test)"
      ],
      "execution_count": 44,
      "outputs": [
        {
          "output_type": "execute_result",
          "data": {
            "text/plain": [
              "0.8333333333333334"
            ]
          },
          "metadata": {
            "tags": []
          },
          "execution_count": 44
        }
      ]
    }
  ]
}
